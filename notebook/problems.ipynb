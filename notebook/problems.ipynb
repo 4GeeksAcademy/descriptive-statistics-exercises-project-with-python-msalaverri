{
 "cells": [
  {
   "cell_type": "markdown",
   "id": "ac622319",
   "metadata": {},
   "source": [
    "# Descriptive statistics problems"
   ]
  },
  {
   "cell_type": "markdown",
   "id": "5e0ab0d5",
   "metadata": {},
   "source": [
    "### Exercise 1\n",
    "\n",
    "We will use NumPy to obtain information to describe statistically.\n",
    "\n",
    "- Generate an array of 100 elements following a normal distribution.\n",
    "- Generate an array of 100 elements following a chi-square distribution with 3 degrees of freedom.\n",
    "- Calculate the main metrics and statistical measures that best describe the two vectors."
   ]
  },
  {
   "cell_type": "code",
   "execution_count": 49,
   "id": "34720ab6",
   "metadata": {},
   "outputs": [
    {
     "name": "stdout",
     "output_type": "stream",
     "text": [
      "Normal Distribution:\n",
      "\n",
      "[ 0.44122749 -0.33087015  2.43077119 -0.25209213  0.10960984  1.58248112\n",
      " -0.9092324  -0.59163666  0.18760323 -0.32986996 -1.19276461 -0.20487651\n",
      " -0.35882895  0.6034716  -1.66478853 -0.70017904  1.15139101  1.85733101\n",
      " -1.51117956  0.64484751 -0.98060789 -0.85685315 -0.87187918 -0.42250793\n",
      "  0.99643983  0.71242127  0.05914424 -0.36331088  0.00328884 -0.10593044\n",
      "  0.79305332 -0.63157163 -0.00619491 -0.10106761 -0.05230815  0.24921766\n",
      "  0.19766009  1.33484857 -0.08687561  1.56153229 -0.30585302 -0.47773142\n",
      "  0.10073819  0.35543847  0.26961241  1.29196338  1.13934298  0.4944404\n",
      " -0.33633626 -0.10061435  1.41339802  0.22125412 -1.31077313 -0.68956523\n",
      " -0.57751323  1.15220477 -0.10716398  2.26010677  0.65661947  0.12480683\n",
      " -0.43570392  0.97217931 -0.24071114 -0.82412345  0.56813272  0.01275832\n",
      "  1.18906073 -0.07359332 -2.85968797  0.7893664  -1.87774088  1.53875615\n",
      "  1.82136474 -0.42703139 -1.16470191 -1.39707402  0.87265462 -0.20211818\n",
      " -0.59835993 -0.2434197   2.08851469  0.34691933  0.74572695  0.77690759\n",
      "  1.01842113  1.06135144 -0.71046645 -0.2151878  -0.76076031 -0.71116323\n",
      "  1.14150774 -0.50175555 -0.07915136 -0.69282634 -0.59340277  0.78823794\n",
      " -0.44542999 -0.48212019  0.49355766  0.50048733]\n",
      "\n",
      "Chi-Square Distribution:\n",
      "\n",
      "[ 4.49790851  2.72200854  0.22532069  3.9769507   0.94083138 13.11374437\n",
      "  2.43402254  1.43127789  0.61101026  0.37331263  2.29691836  1.61232577\n",
      "  0.41237651  1.62453237  0.06679522  1.5566336   1.05306452  7.97147913\n",
      " 10.29091579  4.22707161  8.46392671  7.1454733   0.30287122  4.78741404\n",
      "  0.89109253  0.50027374  0.70594833  3.28243831 11.2466144   2.25916818\n",
      "  1.19704276  3.73031406  2.81834915  3.16475802  1.39551761  3.63860387\n",
      "  3.58444801  1.11623289  3.49654051  2.55918166  6.09451945  0.97974116\n",
      "  2.03760064  1.88176258  3.52104157  1.54809591  2.91567541  5.79249588\n",
      "  0.77573027  4.89188871  4.90329587  3.93869313  1.24734827  4.98329277\n",
      "  2.822028    0.74103608  0.47342946  1.65716272  1.50485838  1.22914485\n",
      "  0.69080275  1.86614687  6.56922907  1.62430287  1.94315448  4.58972927\n",
      "  3.68052097  2.05523514  4.633664    2.29604639  2.0682818   0.3670643\n",
      "  0.51499831  1.61217961  2.40897564  1.7201416   1.25237341  1.82373405\n",
      "  1.13255736  3.361107    4.18363864  4.86545326  1.99208816  6.64690248\n",
      "  4.72660801  1.7657429   1.34967832  3.72325824  2.18522059  3.0386895\n",
      "  0.49898254  1.30576068  3.97258721  1.52941514  2.44067091  0.12269166\n",
      "  0.36097268  5.94649221  5.52512351  0.51807488]\n"
     ]
    }
   ],
   "source": [
    "# TODO\n",
    "import numpy as np\n",
    "import statistics as stat\n",
    "from scipy.stats import norm, kurtosis, skew, describe\n",
    "import math\n",
    "\n",
    "np.random.seed(5)\n",
    "#Generate array of 100 elements following normal distribution\n",
    "normal_dist_array = np.random.normal(loc=0, scale=1, size=100)\n",
    "\n",
    "#Generate array of 100 elements followig a chi-square distributionwith 3 degrees of freedom\n",
    "chi_square_array = np.random.chisquare(df=3, size=100)\n",
    "\n",
    "print('Normal Distribution:\\n')\n",
    "print(normal_dist_array)\n",
    "\n",
    "print('\\nChi-Square Distribution:\\n')\n",
    "print(chi_square_array)\n"
   ]
  },
  {
   "cell_type": "code",
   "execution_count": 52,
   "id": "1317e95a",
   "metadata": {},
   "outputs": [
    {
     "name": "stdout",
     "output_type": "stream",
     "text": [
      "Normal Distribution Metrics\n",
      "\n",
      "Mean:   0.09154664386777675\n",
      "Median: -0.06295073480035011\n",
      "Mode: 0.44122748688504143\n",
      "Percentile 50: -0.06295073480035011\n",
      "Standard Deviation: 0.9309767032155012\n",
      "Variance: 0.8667176219300035\n",
      "Kurtosis: 0.32487940670340043\n",
      "Skewness: 0.06293016891399186\n"
     ]
    }
   ],
   "source": [
    "#Calculate the main metrics and statistical measures that best describe 2 vectors\n",
    "\n",
    "#For normal distribution\n",
    "normal_dist_mean = stat.mean(normal_dist_array)\n",
    "normal_dist_median = stat.median(normal_dist_array)\n",
    "normal_dist_mode = stat.mode(normal_dist_array)\n",
    "normal_dist_perc = np.percentile(normal_dist_array, 50)\n",
    "normal_dist_std = np.std(normal_dist_array)\n",
    "normal_dist_var = np.var(normal_dist_array)\n",
    "normal_dist_kurtosis = kurtosis(normal_dist_array)\n",
    "normal_dist_skew = skew(normal_dist_array)\n",
    "\n",
    "#Present results\n",
    "\n",
    "print('Normal Distribution Metrics\\n')\n",
    "print(f'Mean:   {normal_dist_mean}')\n",
    "print(f'Median: {normal_dist_median}')\n",
    "print(f'Mode: {normal_dist_mode}')\n",
    "print(f'Percentile 50: {normal_dist_perc}')\n",
    "print(f'Standard Deviation: {normal_dist_std}')\n",
    "print(f'Variance: {normal_dist_var}')\n",
    "print(f'Kurtosis: {normal_dist_kurtosis}')\n",
    "print(f'Skewness: {normal_dist_skew}')\n"
   ]
  },
  {
   "cell_type": "markdown",
   "id": "65231959",
   "metadata": {},
   "source": [
    "### For Normal Distribution:\n",
    "\n",
    "- The skewness is about 0, meaning the data is evenly spread around the center. The mean, median, and mode are all roughly the same. The kurtosis is also near 0, showing that the distribution could look like a typical bell curve.\n",
    "\n",
    "\n",
    "---------------"
   ]
  },
  {
   "cell_type": "code",
   "execution_count": 53,
   "id": "e49fb79d",
   "metadata": {},
   "outputs": [
    {
     "name": "stdout",
     "output_type": "stream",
     "text": [
      "\n",
      "Chi-Square Distribution Metrics\n",
      "\n",
      "Mean:   2.845718471844506\n",
      "Median: 2.0617584704739125\n",
      "Mode: 4.497908512717924\n",
      "Percentile 50: 2.0617584704739125\n",
      "Standard Deviation: 2.419424962909896\n",
      "Variance: 5.8536171511515525\n",
      "Kurtosis: 3.6612928362066937\n",
      "Skewness: 1.7150434340597356\n"
     ]
    }
   ],
   "source": [
    "#Calculate the main metrics and statistical measures that best describe 2 vectors\n",
    "\n",
    "#For chi-square distribution\n",
    "chi_square_dist_mean = stat.mean(chi_square_array)\n",
    "chi_square_dist_median = stat.median(chi_square_array)\n",
    "chi_square_dist_mode = stat.mode(chi_square_array)\n",
    "chi_square_dist_perc = np.percentile(chi_square_array, 50)\n",
    "chi_square_dist_std = np.std(chi_square_array)\n",
    "chi_square_dist_var = np.var(chi_square_array)\n",
    "chi_square_dist_kurtosis = kurtosis(chi_square_array)\n",
    "chi_square_dist_skew = skew(chi_square_array)\n",
    "\n",
    "#Present results\n",
    "\n",
    "print('\\nChi-Square Distribution Metrics\\n')\n",
    "print(f'Mean:   {chi_square_dist_mean}')\n",
    "print(f'Median: {chi_square_dist_median}')\n",
    "print(f'Mode: {chi_square_dist_mode}')\n",
    "print(f'Percentile 50: {chi_square_dist_perc}')\n",
    "print(f'Standard Deviation: {chi_square_dist_std}')\n",
    "print(f'Variance: {chi_square_dist_var}')\n",
    "print(f'Kurtosis: {chi_square_dist_kurtosis}')\n",
    "print(f'Skewness: {chi_square_dist_skew}')"
   ]
  },
  {
   "cell_type": "markdown",
   "id": "a12bfed8",
   "metadata": {},
   "source": [
    "### For Chi-Square Distribution:\n",
    "\n",
    "- The skewness is close to 1, meaning most data points are on the left side with a long tail on the right. This means the mean is higher than the median and mode.\n",
    "\n",
    "\n",
    "---------------"
   ]
  },
  {
   "cell_type": "markdown",
   "id": "46c70c3d",
   "metadata": {},
   "source": [
    "### Exercise 2\n",
    "\n",
    "Write a Python program to calculate the standard deviation of the following data:\n",
    "\n",
    "```py\n",
    "data = [4, 2, 5, 8, 6]\n",
    "```"
   ]
  },
  {
   "cell_type": "code",
   "execution_count": 54,
   "id": "d590308e",
   "metadata": {},
   "outputs": [
    {
     "name": "stdout",
     "output_type": "stream",
     "text": [
      "The Standard Deviation of the Data is: 2.0\n"
     ]
    }
   ],
   "source": [
    "# TODO\n",
    "\n",
    "#Our Data\n",
    "data = [4, 2, 5, 8, 6]\n",
    "\n",
    "#Calculate Mean\n",
    "std_dev_data = np.std(data)\n",
    "\n",
    "print(f'The Standard Deviation of the Data is: {std_dev_data}')"
   ]
  }
 ],
 "metadata": {
  "kernelspec": {
   "display_name": "Python 3",
   "language": "python",
   "name": "python3"
  },
  "language_info": {
   "codemirror_mode": {
    "name": "ipython",
    "version": 3
   },
   "file_extension": ".py",
   "mimetype": "text/x-python",
   "name": "python",
   "nbconvert_exporter": "python",
   "pygments_lexer": "ipython3",
   "version": "3.11.4"
  }
 },
 "nbformat": 4,
 "nbformat_minor": 5
}
