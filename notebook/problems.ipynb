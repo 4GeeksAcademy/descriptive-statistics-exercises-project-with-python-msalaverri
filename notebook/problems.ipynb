{
 "cells": [
  {
   "cell_type": "markdown",
   "id": "ac622319",
   "metadata": {},
   "source": [
    "# Descriptive statistics problems"
   ]
  },
  {
   "cell_type": "markdown",
   "id": "5e0ab0d5",
   "metadata": {},
   "source": [
    "### Exercise 1\n",
    "\n",
    "We will use NumPy to obtain information to describe statistically.\n",
    "\n",
    "- Generate an array of 100 elements following a normal distribution.\n",
    "- Generate an array of 100 elements following a chi-square distribution with 3 degrees of freedom.\n",
    "- Calculate the main metrics and statistical measures that best describe the two vectors."
   ]
  },
  {
   "cell_type": "code",
   "execution_count": null,
   "id": "34720ab6",
   "metadata": {},
   "outputs": [
    {
     "name": "stdout",
     "output_type": "stream",
     "text": [
      "Normal Distribution Metrics\n",
      "\n",
      "Mean:   0.0936093076998223\n",
      "Median: 0.08888598631086206\n",
      "Percentile 50: 0.08888598631086206\n",
      "Standard Deviation: 1.0919771182732594\n",
      "Variance: 1.1924140268323717\n",
      "Kurtosis: -0.4332441592950298\n",
      "Skewness: -0.1953369971369955\n",
      "\n",
      "Chi-Square Distribution Metrics\n",
      "\n",
      "Mean:   3.0476535092794133\n",
      "Median: 2.342525226258369\n",
      "Percentile 50: 2.342525226258369\n",
      "Standard Deviation: 2.8714366737094323\n",
      "Variance: 8.24514857112349\n",
      "Kurtosis: 2.936025054181675\n",
      "Skewness: 1.7668820970080674\n"
     ]
    }
   ],
   "source": [
    "# TODO\n",
    "import numpy as np\n",
    "from scipy.stats import norm, kurtosis, skew, describe\n",
    "\n",
    "#Generate array of 100 elements following normal distribution\n",
    "normal_dist_array = np.random.normal(loc=0, scale=1, size=100)\n",
    "\n",
    "#Generate array of 100 elements followig a chi-square distributionwith 3 degrees of freedom\n",
    "chi_square_array = np.random.chisquare(df=3, size=100)\n",
    "\n",
    "#Calculate the main metrics and statistical measures that best describe 2 vectors\n",
    "\n",
    "#For normal distribution\n",
    "normal_dist_mean = np.mean(normal_dist_array)\n",
    "normal_dist_median = np.median(normal_dist_array)\n",
    "normal_dist_perc = np.percentile(normal_dist_array, 50)\n",
    "normal_dist_std = np.std(normal_dist_array)\n",
    "normal_dist_var = np.var(normal_dist_array)\n",
    "normal_dist_kurtosis = kurtosis(normal_dist_array)\n",
    "normal_dist_skew = skew(normal_dist_array)\n",
    "\n",
    "#For chi-square distribution\n",
    "chi_square_dist_mean = np.mean(chi_square_array)\n",
    "chi_square_dist_median = np.median(chi_square_array)\n",
    "chi_square_dist_perc = np.percentile(chi_square_array, 50)\n",
    "chi_square_dist_std = np.std(chi_square_array)\n",
    "chi_square_dist_var = np.var(chi_square_array)\n",
    "chi_square_dist_kurtosis = kurtosis(chi_square_array)\n",
    "chi_square_dist_skew = skew(chi_square_array)\n",
    "\n",
    "#Present results\n",
    "\n",
    "print('Normal Distribution Metrics\\n')\n",
    "print(f'Mean:   {normal_dist_mean}')\n",
    "print(f'Median: {normal_dist_median}')\n",
    "print(f'Percentile 50: {normal_dist_perc}')\n",
    "print(f'Standard Deviation: {normal_dist_std}')\n",
    "print(f'Variance: {normal_dist_var}')\n",
    "print(f'Kurtosis: {normal_dist_kurtosis}')\n",
    "print(f'Skewness: {normal_dist_skew}')\n",
    "\n",
    "print('\\nChi-Square Distribution Metrics\\n')\n",
    "print(f'Mean:   {chi_square_dist_mean}')\n",
    "print(f'Median: {chi_square_dist_median}')\n",
    "print(f'Percentile 50: {chi_square_dist_perc}')\n",
    "print(f'Standard Deviation: {chi_square_dist_std}')\n",
    "print(f'Variance: {chi_square_dist_var}')\n",
    "print(f'Kurtosis: {chi_square_dist_kurtosis}')\n",
    "print(f'Skewness: {chi_square_dist_skew}')\n"
   ]
  },
  {
   "cell_type": "markdown",
   "id": "46c70c3d",
   "metadata": {},
   "source": [
    "### Exercise 2\n",
    "\n",
    "Write a Python program to calculate the standard deviation of the following data:\n",
    "\n",
    "```py\n",
    "data = [4, 2, 5, 8, 6]\n",
    "```"
   ]
  },
  {
   "cell_type": "code",
   "execution_count": null,
   "id": "d590308e",
   "metadata": {},
   "outputs": [
    {
     "name": "stdout",
     "output_type": "stream",
     "text": [
      "The Standard Deviation of the Data is: 2.0\n"
     ]
    }
   ],
   "source": [
    "# TODO\n",
    "\n",
    "#Our Data\n",
    "data = [4, 2, 5, 8, 6]\n",
    "\n",
    "#Calculate Standard Deviation\n",
    "std_dev_data = np.std(data)\n",
    "\n",
    "print(f'The Standard Deviation of the Data is: {std_dev_data}')"
   ]
  }
 ],
 "metadata": {
  "kernelspec": {
   "display_name": "Python 3",
   "language": "python",
   "name": "python3"
  },
  "language_info": {
   "codemirror_mode": {
    "name": "ipython",
    "version": 3
   },
   "file_extension": ".py",
   "mimetype": "text/x-python",
   "name": "python",
   "nbconvert_exporter": "python",
   "pygments_lexer": "ipython3",
   "version": "3.11.4"
  }
 },
 "nbformat": 4,
 "nbformat_minor": 5
}
